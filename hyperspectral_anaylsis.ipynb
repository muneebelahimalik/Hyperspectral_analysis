{
 "cells": [
  {
   "cell_type": "markdown",
   "metadata": {},
   "source": [
    "# Note by the author (Muneeb)\n",
    "# You would need to install the spectral library for this. Also give the \n",
    "# hyperspectral path and make sure that the hdr directory also\n",
    "# has the .raw file with the same name as the .hdr file."
   ]
  },
  {
   "cell_type": "code",
   "execution_count": null,
   "metadata": {},
   "outputs": [],
   "source": [
    "import spectral\n",
    "import numpy as np\n",
    "import matplotlib.pyplot as plt\n"
   ]
  },
  {
   "cell_type": "code",
   "execution_count": null,
   "metadata": {},
   "outputs": [],
   "source": [
    "# change teh following based on your computer\n",
    "hdr_path = r\"C:\\Users\\mm17889\\OneDrive - University of Georgia\\Hyperspectral Data\\emptyname_2024-04-17_19-42-01\\capture\\emptyname_2024-04-17_19-42-01.hdr\"\n",
    "\n",
    "img = spectral.open_image(hdr_path)  # The .hdr points to the .raw automatically.\n",
    "\n",
    "# Load into a NumPy array (shape typically [rows, cols, bands]):\n",
    "data = img.load()  # or img.asarray()\n",
    "\n",
    "print(\"Data shape (rows, cols, bands):\", data.shape)\n"
   ]
  },
  {
   "cell_type": "code",
   "execution_count": null,
   "metadata": {},
   "outputs": [],
   "source": [
    "if 'wavelength' in img.metadata:\n",
    "    wavelengths = np.array([float(w) for w in img.metadata['wavelength']])\n",
    "    print(\"Wavelength array shape:\", wavelengths.shape)\n",
    "else:\n",
    "    wavelengths = None\n",
    "    print(\"No wavelength info found in header.\")\n",
    "\n",
    "def find_band_index(target_nm):\n",
    "    if wavelengths is None:\n",
    "        raise ValueError(\"No wavelength data to match band indices.\")\n",
    "    return np.argmin(np.abs(wavelengths - target_nm))\n"
   ]
  },
  {
   "cell_type": "code",
   "execution_count": null,
   "metadata": {},
   "outputs": [],
   "source": [
    "# Approximate wavelength values (nm) for each color band\n",
    "blue_wl  = 450\n",
    "green_wl = 550\n",
    "red_wl   = 660\n",
    "nir_wl   = 850\n",
    "\n",
    "# Find actual band indices based on nearest wavelength:\n",
    "if wavelengths is not None:\n",
    "    blue_idx  = find_band_index(blue_wl)\n",
    "    green_idx = find_band_index(green_wl)\n",
    "    red_idx   = find_band_index(red_wl)\n",
    "    nir_idx   = find_band_index(nir_wl)\n",
    "else:\n",
    "    # Fallback if no wavelength info is available\n",
    "    blue_idx  = 10\n",
    "    green_idx = 30\n",
    "    red_idx   = 50\n",
    "    nir_idx   = 90\n",
    "\n",
    "print(\"Band indices (B, G, R, NIR):\", blue_idx, green_idx, red_idx, nir_idx)\n"
   ]
  },
  {
   "cell_type": "code",
   "execution_count": null,
   "metadata": {},
   "outputs": [],
   "source": [
    "# Typically we order as [R, G, B] for normal color display\n",
    "rgb_bands = [red_idx, green_idx, blue_idx]\n",
    "rgb_img = data[:, :, rgb_bands]\n",
    "\n",
    "# Normalize for display (clip outliers at the 99th percentile)\n",
    "rgb_max = np.percentile(rgb_img, 99)\n",
    "rgb_norm = np.clip(rgb_img / rgb_max, 0, 1)\n",
    "\n",
    "plt.figure(figsize=(6, 6))\n",
    "plt.imshow(rgb_norm)\n",
    "plt.title(\"RGB Composite\")\n",
    "plt.axis(\"off\")\n",
    "plt.show()\n"
   ]
  },
  {
   "cell_type": "code",
   "execution_count": null,
   "metadata": {},
   "outputs": [],
   "source": [
    "# NDVI = (NIR - RED) / (NIR + RED + epsilon)\n",
    "red_band = data[:, :, red_idx].astype(np.float32)\n",
    "nir_band = data[:, :, nir_idx].astype(np.float32)\n",
    "\n",
    "epsilon = 1e-8  # small offset to avoid division by zero\n",
    "ndvi = (nir_band - red_band) / (nir_band + red_band + epsilon)\n",
    "\n",
    "plt.figure(figsize=(6, 6))\n",
    "plt.imshow(ndvi, cmap='RdYlGn')\n",
    "plt.title(\"NDVI\")\n",
    "plt.colorbar(label=\"NDVI value\")\n",
    "plt.axis(\"off\")\n",
    "plt.show()\n"
   ]
  },
  {
   "cell_type": "code",
   "execution_count": null,
   "metadata": {},
   "outputs": [],
   "source": [
    "# visualizing individual bands\n",
    "# Red band (grayscale)\n",
    "plt.figure(figsize=(6, 6))\n",
    "plt.imshow(red_band, cmap='gray')\n",
    "plt.title(\"Red Band\")\n",
    "plt.colorbar(label=\"Pixel Intensity\")\n",
    "plt.axis(\"off\")\n",
    "plt.show()\n",
    "\n",
    "# NIR band (grayscale)\n",
    "plt.figure(figsize=(6, 6))\n",
    "plt.imshow(nir_band, cmap='gray')\n",
    "plt.title(\"NIR Band\")\n",
    "plt.colorbar(label=\"Pixel Intensity\")\n",
    "plt.axis(\"off\")\n",
    "plt.show()\n"
   ]
  },
  {
   "cell_type": "code",
   "execution_count": null,
   "metadata": {},
   "outputs": [],
   "source": []
  }
 ],
 "metadata": {
  "kernelspec": {
   "display_name": "Python 3",
   "language": "python",
   "name": "python3"
  },
  "language_info": {
   "name": "python",
   "version": "3.8.20"
  }
 },
 "nbformat": 4,
 "nbformat_minor": 2
}
